{
 "cells": [
  {
   "cell_type": "markdown",
   "metadata": {},
   "source": [
    "# dLFP Modeling\n",
    "## Empirical Impedances\n",
    "\n",
    "### Overview\n",
    "Impedance mismatches can cause imperfect rejection of the DBS stimulation waveform.\n",
    "In this notebook we'll determine the level of impedance mismatch we see in our clinical dLFP recordings.\n",
    "\n",
    "### Methods\n",
    "We collected impedances from our patients over the entire timecourse of the study at their weekly clinical visits.\n",
    "Impedances are measured in bipolar mode, with the IPG being cathode.\n",
    "The test signal is a 100Hz, 3V signal."
   ]
  },
  {
   "cell_type": "code",
   "execution_count": null,
   "metadata": {},
   "outputs": [],
   "source": [
    "import DBSpace as dbo\n",
    "from DBSpace.dLFP.impedances import Z_class\n",
    "import matplotlib.pyplot as plt"
   ]
  },
  {
   "cell_type": "markdown",
   "metadata": {},
   "source": [
    "### Impedances are asymmetric"
   ]
  },
  {
   "cell_type": "code",
   "execution_count": null,
   "metadata": {},
   "outputs": [],
   "source": [
    "\n",
    "print('Doing Impedance Mismatch Analysis - Script')\n",
    "Z_lib = Z_class()\n",
    "Z_lib.get_recZs()\n",
    "Z_lib.plot_recZs()"
   ]
  },
  {
   "cell_type": "markdown",
   "metadata": {},
   "source": [
    "### Impedance mismatches are large"
   ]
  },
  {
   "cell_type": "markdown",
   "metadata": {},
   "source": [
    "### Impedance mismatches are dynamic\n"
   ]
  },
  {
   "cell_type": "code",
   "execution_count": null,
   "metadata": {},
   "outputs": [],
   "source": [
    "Z_lib.dynamics_measures()"
   ]
  }
 ],
 "metadata": {
  "kernelspec": {
   "display_name": "Python 3",
   "language": "python",
   "name": "python3"
  },
  "language_info": {
   "codemirror_mode": {
    "name": "ipython",
    "version": 3
   },
   "file_extension": ".py",
   "mimetype": "text/x-python",
   "name": "python",
   "nbconvert_exporter": "python",
   "pygments_lexer": "ipython3",
   "version": "3.8.0"
  }
 },
 "nbformat": 4,
 "nbformat_minor": 2
}
