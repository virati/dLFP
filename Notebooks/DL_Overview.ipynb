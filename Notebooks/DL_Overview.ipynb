{
 "cells": [
  {
   "cell_type": "markdown",
   "metadata": {},
   "source": [
    "# dLFP Modeling\n",
    "## Overview\n",
    "\n",
    "Recording neural activity from patients treated with deep brain stimulation (DBS) is challenging.\n",
    "One of the biggest factors is in the discrepancy between the small neural activity we're interested in and the large DBS stimulation we use for therapy.\n",
    "\n",
    "![](../imgs/A1_overview.png)\n",
    "\n",
    "The focus of this notebook is to highlight the work I did in my PhD developing strategies to correct for artifacts that were irrevocably in our clinical LFP recordings.\n",
    "Specifically, I found that mismatches in the impedances of the brain target could cause the stimulation artifact to be imperfectly rejected, letting a small fraction of the massive stimulation to leak into the amplifier.\n",
    "This would then cause gain compression and result in stereotyped artifacts.\n",
    "After characterizing these problems I developed a strategy to correct for *mismatch compression*, enabling further analysis done in my PhD work.\n",
    "\n",
    "Sub-Notebooks\n",
    "* Multimodal recordings [TBA]()\n",
    "* Recording instabilities [link](DL_Zmismatch.ipynb)\n",
    "* Mismatch compression model and validation [link](DL_Sim.ipynb)\n",
    "* Correction pipeline for mismatch compression [link](DL_Validation.ipynb)"
   ]
  },
  {
   "cell_type": "markdown",
   "metadata": {},
   "source": [
    "### Background\n",
    "Recent DBS hardware has enabled the simultaneous recording of local field potentials (LFPs) with active therapy in patients across months.\n",
    "These devices are marvels of engineering but have limitations that must be addressed in any electrophysiologic analysis.\n",
    "The Activa PC+S (Medtronic) is one such device that records *differential* LFP channels (dLFP) in order to remove the stimulation artifact through common-mode rejection.\n",
    "This common-mode rejection, however, assumes one important factor: the two recording channels are seeing the DBS stimulation waveform *equally*.\n",
    "One factor that can affect how equally the recording electrodes see the stimulation is the *impedance* of the recording electrodes."
   ]
  },
  {
   "cell_type": "markdown",
   "metadata": {},
   "source": [
    "## Methods\n",
    "\n",
    "### Framework\n",
    "In this study our goal is to better understand the relationship between our measured electrophysiology $P(\\vec{y}(t)$ and our true electrophysiology $P(\\mathbf{x})$\n",
    "\n",
    "![](../imgs/ctrl_aff_sysdiag.png)\n",
    "\n",
    "We'll focus on oscillatory representations of our measured electrophysiology.\n",
    "The process of finding our oscillatory representation is encoded in the operator $\\vec{\\theta}(t) = \\Theta(\\vec{y}(t)$\n",
    "Our oscillatory measurements, however, are corrupted by impedance mismatches and stimulation artifacts.\n",
    "This means our measured oscillatory state $P(\\vec{\\theta},t | \\mathbf{x}, {Z}_1, {Z}_2) \\not = P(\\vec{\\theta},t | \\mathbf{x})$\n",
    "This is a problem as we want our measured oscillatory states to be conditionally independent of the impedance mismatches the recording electrodes have."
   ]
  },
  {
   "cell_type": "markdown",
   "metadata": {},
   "source": [
    "### Multimodal electrophysiology\n",
    "I collected multiple modalities of electrophysiology to better be able to understand the novel dLFP we were now able to record from our patients.\n",
    "In the operating room we collected high-quality LFP and EEG using state-of-the-art data-aquisition (DAQ) systems, both clinical and research.\n",
    "Outside of the operating room we collected dLFP from the PC+S and also scalp EEG using a dense-array EEG system from [EGI]().\n",
    "\n",
    "A comparison of these three modalities is an important first step to understand the limitations of our recordings.\n",
    "Find this work [here]().\n",
    "\n",
    "### Benchtop\n",
    "In order to get some semblence of *ground truth* I had to collect recordings on a benchtop.\n",
    "In particular, I wanted to see if differences in the impedances of two recording electrodes would cause *gain compression*."
   ]
  }
 ],
 "metadata": {
  "kernelspec": {
   "display_name": "Python 3",
   "language": "python",
   "name": "python3"
  },
  "language_info": {
   "codemirror_mode": {
    "name": "ipython",
    "version": 3
   },
   "file_extension": ".py",
   "mimetype": "text/x-python",
   "name": "python",
   "nbconvert_exporter": "python",
   "pygments_lexer": "ipython3",
   "version": "3.8.1"
  }
 },
 "nbformat": 4,
 "nbformat_minor": 2
}
