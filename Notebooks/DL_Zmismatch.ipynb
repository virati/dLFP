{
 "cells": [
  {
   "cell_type": "markdown",
   "metadata": {},
   "source": [
    "# dLFP Modeling\n",
    "\n",
    "## Empirical Impedances\n",
    "\n",
    "### Overview\n",
    "Impedance mismatches can cause imperfect rejection of the DBS stimulation waveform.\n",
    "If too much of the stim waveform leaks into the sensitive amplifier, we can \"blow out\" the amplifier.\n",
    "Basically, it tries, but fails miserably, to take a signal one million times what it's expecting and output a signal one thousand times larger (gained).\n",
    "Makes sense: real-world amplifiers can't output arbitrarily large voltages.\n",
    "\n",
    "\n",
    "### Methods\n",
    "\n",
    "We collected impedances from our patients over the entire timecourse of the study.\n",
    "\n"
   ]
  }
 ],
 "metadata": {
  "kernelspec": {
   "display_name": "Python 3",
   "language": "python",
   "name": "python3"
  },
  "language_info": {
   "codemirror_mode": {
    "name": "ipython",
    "version": 3
   },
   "file_extension": ".py",
   "mimetype": "text/x-python",
   "name": "python",
   "nbconvert_exporter": "python",
   "pygments_lexer": "ipython3",
   "version": "3.8.0"
  }
 },
 "nbformat": 4,
 "nbformat_minor": 2
}
