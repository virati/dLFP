{
 "cells": [
  {
   "cell_type": "markdown",
   "metadata": {},
   "source": [
    "# Mismatch Compression Simulation\n",
    "## Effect of Impedance\n",
    "\n",
    "### Overview\n",
    "In this notebook we'll illustrate the frequency-domain distortions caused by gain compression, a source of confounding distortions in differentially recorded local field potentials (dLFP)\n",
    "\n",
    "In dLFP, gain compression can occur if the impedances of the recording electrodes are *mismatched*.\n",
    "\n",
    "This work is a part of a publication (submitted, [preprint]()).\n",
    "\n",
    "### Code/Model setup"
   ]
  },
  {
   "cell_type": "code",
   "execution_count": 7,
   "metadata": {},
   "outputs": [],
   "source": [
    "%reset -f\n",
    "import DBSpace as dbo\n",
    "import DBSpace.dLFP.diff_model as sim\n",
    "\n",
    "import numpy as np\n",
    "import allantools\n",
    "from allantools.noise import pink as f_noise\n",
    "import matplotlib.pyplot as plt\n",
    "\n",
    "import scipy.signal as sig\n",
    "from scipy.ndimage.filters import gaussian_filter1d\n",
    "\n",
    "import matplotlib.pyplot as plt\n",
    "plt.rcParams['figure.figsize'] = [15, 5]\n",
    "\n",
    "import pdb\n",
    "from ipywidgets import interact, interactive, fixed, interact_manual\n",
    "import ipywidgets as widgets\n",
    "import scipy.stats as stats\n",
    "\n",
    "#plt.close('all')\n",
    "\n",
    "import seaborn as sns\n",
    "sns.set_context(\"paper\")\n",
    "\n",
    "sns.set(font_scale=2)\n",
    "sns.set_style(\"ticks\")\n",
    "sns.set_style(\"white\")\n",
    "plt.rcParams['image.cmap'] = 'jet'"
   ]
  },
  {
   "cell_type": "markdown",
   "metadata": {},
   "source": [
    "### The Differential Amplifier\n",
    "The core of the dLFP recording channel, the differential amplifier simulator does a simple job: simulate the differential recording channel."
   ]
  },
  {
   "cell_type": "code",
   "execution_count": 8,
   "metadata": {},
   "outputs": [],
   "source": [
    "diff_run = sim.sim_diff(Ad=200,wform='moresine4',clock=True,stim_v=4)"
   ]
  },
  {
   "cell_type": "markdown",
   "metadata": {},
   "source": [
    "### The Signal Amplifier\n",
    "This is where we start dealing with the limitations of amplifiers, specifically *gain compression*.\n",
    "\n",
    "When an amplifier is designed, it's designed to accept a range of input signals and then multiply, or *gain*, that signal up by some fixed gain factor.\n",
    "Unfortunately, when we send in an input signal that's outside of the design range, we get some bad behavior: we can't output the amplitude we need to based on the fixed gain factor.\n",
    "This \"compresses\" our output signal and gives us a smaller signal than we needed.\n",
    "That's where the core of the problem is.\n",
    "\n",
    "Let's set up our signal amplifier and attach it to our differential amplifier.\n",
    "We'll set the amplifier's behavior using the $tanh(x)$ model, which is a more realistic model than the linear and piecewise linear models.\n",
    "Noise, signal amp gain and pre amp gain will be fixed at trivial values.\n",
    "\n",
    "*If you want to accentuate the effects of gain compression for illustrative purposes, or even fitting to other devices, the pre_amp_gain is where you can do it. Try setting it at 10 and see the difference that even small impedance mismatches make!*"
   ]
  },
  {
   "cell_type": "code",
   "execution_count": 9,
   "metadata": {},
   "outputs": [],
   "source": [
    "amp_run = sim.sim_amp(diff_run,family='tanh',noise=1e-6,sig_amp_gain=1,pre_amp_gain=1)"
   ]
  },
  {
   "cell_type": "markdown",
   "metadata": {},
   "source": [
    "### Run Simulator\n",
    "\n",
    "Now that we've set up both our differential amplifier (diff_run) and our signal amplifier (amp_run) we can proceed with our simulation.\n",
    "We'll simulate with the two recording electrode impedances as arguments."
   ]
  },
  {
   "cell_type": "code",
   "execution_count": 13,
   "metadata": {},
   "outputs": [
    {
     "data": {
      "application/vnd.jupyter.widget-view+json": {
       "model_id": "6ede742863584cb88044a4f8bd6b332e",
       "version_major": 2,
       "version_minor": 0
      },
      "text/plain": [
       "interactive(children=(IntSlider(value=1000, description='Z1', max=1600, min=800, step=50), IntSlider(value=100…"
      ]
     },
     "metadata": {},
     "output_type": "display_data"
    }
   ],
   "source": [
    "def sim_run(Z1=1100,Z3=1100):\n",
    "    amp_run.simulate(Z1,Z3)\n",
    "    amp_run.plot_time_dom()\n",
    "    amp_run.plot_freq_dom()\n",
    "    amp_run.plot_tf_dom()\n",
    "\n",
    "interactive(sim_run,Z1=widgets.IntSlider(min=800, max=1600, step=50, value=1000),Z3=widgets.IntSlider(min=800, max=1600, step=50, value=1000))"
   ]
  },
  {
   "cell_type": "markdown",
   "metadata": {},
   "source": [
    "Key things to notice here between the perfect amp and the realistic amp when the stim is ON (green):\n",
    "* We see major differences in how the PSD \"falls off\" after about 90Hz. (Slope flattening)\n",
    "* We see the emergence of new peaks at 32Hz, 90-ishHz, 160Hz, etc. (Intermodulation Harmonics)\n",
    "\n",
    "These two features are almost defining of gain compression."
   ]
  },
  {
   "cell_type": "markdown",
   "metadata": {},
   "source": [
    "## Effect of stimulation frequency\n",
    "We can observe the effect that our stimulation frequency has on the mismatch compression distortions."
   ]
  },
  {
   "cell_type": "code",
   "execution_count": 12,
   "metadata": {},
   "outputs": [
    {
     "data": {
      "application/vnd.jupyter.widget-view+json": {
       "model_id": "44dd5e1b3e04469d93ff3af54f4dc158",
       "version_major": 2,
       "version_minor": 0
      },
      "text/plain": [
       "interactive(children=(IntSlider(value=1000, description='Z1', max=1600, min=800, step=50), IntSlider(value=120…"
      ]
     },
     "metadata": {},
     "output_type": "display_data"
    }
   ],
   "source": [
    "def sim_freq(Z1=1100,Z3=1200,freq=130):\n",
    "    freq_run = sim.sim_diff(Ad=200,wform='moresine4',clock=True,stim_v=4,stim_freq=freq)\n",
    "    amp_run = sim.sim_amp(freq_run,family='tanh',noise=1e-6,sig_amp_gain=1,pre_amp_gain=1)\n",
    "\n",
    "\n",
    "    amp_run.simulate(Z1,Z3)\n",
    "    amp_run.plot_time_dom()\n",
    "    amp_run.plot_freq_dom()\n",
    "    amp_run.plot_tf_dom()\n",
    "\n",
    "interactive(sim_freq,Z1=widgets.IntSlider(min=800, max=1600, step=50, value=1000),Z3=widgets.IntSlider(min=800, max=1600, step=50, value=1200),freq=(70,180,10))"
   ]
  }
 ],
 "metadata": {
  "kernelspec": {
   "display_name": "Python 3",
   "language": "python",
   "name": "python3"
  },
  "language_info": {
   "codemirror_mode": {
    "name": "ipython",
    "version": 3
   },
   "file_extension": ".py",
   "mimetype": "text/x-python",
   "name": "python",
   "nbconvert_exporter": "python",
   "pygments_lexer": "ipython3",
   "version": "3.7.6"
  }
 },
 "nbformat": 4,
 "nbformat_minor": 4
}
