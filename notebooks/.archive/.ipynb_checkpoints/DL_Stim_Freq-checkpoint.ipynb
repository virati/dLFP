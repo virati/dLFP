{
 "cells": [
  {
   "cell_type": "markdown",
   "metadata": {},
   "source": [
    "# Mismatch Compression Simulation\n",
    "## Effect of Stimulation Frequency\n",
    "\n",
    "### Overview\n",
    "Here, we'll use our model to explore how stimulation frequency affects the frequencies of intermodulation harmonics\n",
    "\n",
    "### Model/Code setup"
   ]
  },
  {
   "cell_type": "code",
   "execution_count": null,
   "metadata": {},
   "outputs": [],
   "source": [
    "%reset -f\n",
    "import DBSpace as dbo\n",
    "import DBSpace.dLFP.diff_model as sim\n",
    "\n",
    "import numpy as np\n",
    "import allantools\n",
    "from allantools.noise import pink as f_noise\n",
    "import matplotlib.pyplot as plt\n",
    "\n",
    "import scipy.signal as sig\n",
    "from scipy.ndimage.filters import gaussian_filter1d\n",
    "\n",
    "import matplotlib.pyplot as plt\n",
    "plt.rcParams['figure.figsize'] = [15, 5]\n",
    "\n",
    "import pdb\n",
    "from ipywidgets import interact, interactive, fixed, interact_manual\n",
    "import ipywidgets as widgets\n",
    "import scipy.stats as stats\n",
    "\n",
    "#plt.close('all')\n",
    "\n",
    "import seaborn as sns\n",
    "sns.set_context(\"paper\")\n",
    "\n",
    "sns.set(font_scale=2)\n",
    "sns.set_style(\"ticks\")\n",
    "sns.set_style(\"white\")\n",
    "plt.rcParams['image.cmap'] = 'jet'"
   ]
  },
  {
   "cell_type": "markdown",
   "metadata": {},
   "source": [
    "## Effect of stimulation frequency\n",
    "We can observe the effect that our stimulation frequency has on the mismatch compression distortions."
   ]
  },
  {
   "cell_type": "code",
   "execution_count": null,
   "metadata": {},
   "outputs": [],
   "source": [
    "diff_run = sim.sim_diff(Ad=200,wform='moresine4',clock=True,stim_v=4)\n",
    "amp_run = sim.sim_amp(diff_run,family='tanh',noise=1e-6,sig_amp_gain=1,pre_amp_gain=1)"
   ]
  },
  {
   "cell_type": "code",
   "execution_count": null,
   "metadata": {},
   "outputs": [],
   "source": [
    "def sim_freq(Z1=1100,Z3=1200,freq=130):\n",
    "    freq_run = sim.sim_diff(Ad=200,wform='moresine4',clock=True,stim_v=4,stim_freq=freq)\n",
    "    amp_run = sim.sim_amp(freq_run,family='tanh',noise=1e-6,sig_amp_gain=1,pre_amp_gain=1)\n",
    "\n",
    "\n",
    "    amp_run.simulate(Z1,Z3)\n",
    "    amp_run.plot_time_dom()\n",
    "    amp_run.plot_freq_dom()\n",
    "    amp_run.plot_tf_dom()\n",
    "\n",
    "interactive(sim_freq,Z1=widgets.IntSlider(min=800, max=1600, step=50, value=1000),Z3=widgets.IntSlider(min=800, max=1600, step=50, value=1200),freq=(70,180,10))"
   ]
  }
 ],
 "metadata": {
  "kernelspec": {
   "display_name": "Python 3",
   "language": "python",
   "name": "python3"
  },
  "language_info": {
   "codemirror_mode": {
    "name": "ipython",
    "version": 3
   },
   "file_extension": ".py",
   "mimetype": "text/x-python",
   "name": "python",
   "nbconvert_exporter": "python",
   "pygments_lexer": "ipython3",
   "version": "3.7.6"
  }
 },
 "nbformat": 4,
 "nbformat_minor": 4
}
