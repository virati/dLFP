{
 "cells": [
  {
   "cell_type": "code",
   "execution_count": null,
   "metadata": {},
   "outputs": [],
   "source": [
    "from dbspace.signal.dLFP.diff_amp_model import diff_amp\n",
    "from dbspace.signal.dLFP.sig_amp_model import sig_amp\n",
    "import matplotlib.pyplot as plt\n",
    "\n",
    "plt.rcParams[\"figure.figsize\"] = (20, 10)\n"
   ]
  },
  {
   "cell_type": "markdown",
   "metadata": {},
   "source": [
    "# MC Simulator\n",
    "This notebook simulates dLFP at different impedance mismatches."
   ]
  },
  {
   "cell_type": "code",
   "execution_count": null,
   "metadata": {},
   "outputs": [],
   "source": [
    "\n",
    "# Parameter set\n",
    "Z1, Z3 = 1200, 1300\n",
    "stimulation_frequency = 130\n",
    "amp_model = \"tanh\"\n"
   ]
  },
  {
   "cell_type": "markdown",
   "metadata": {},
   "source": [
    "## Let's simulate!\n",
    "At this point we're going to simulate the parameters set above\n",
    "\n"
   ]
  },
  {
   "cell_type": "code",
   "execution_count": null,
   "metadata": {},
   "outputs": [],
   "source": [
    "diff_run = diff_amp(\n",
    "    Ad=200,\n",
    "    wform=\"moresine4\",\n",
    "    clock=True,\n",
    "    stim_v=4,\n",
    "    stim_freq=stimulation_frequency,\n",
    "    fullFs=42200,\n",
    ")\n",
    "amp_run = sig_amp(\n",
    "    diff_run, family=amp_model, noise=1e-6, sig_amp_gain=10, pre_amp_gain=5\n",
    ")\n",
    "\n"
   ]
  },
  {
   "cell_type": "code",
   "execution_count": null,
   "metadata": {},
   "outputs": [],
   "source": [
    "\n",
    "amp_run.simulate(Z1, Z3, use_windowing=\"blackmanharris\")\n",
    "amp_run.plot_time_dom()\n",
    "amp_run.plot_freq_dom()\n",
    "amp_run.plot_tf_dom()\n",
    "\n",
    "plt.show()\n"
   ]
  }
 ],
 "metadata": {
  "kernelspec": {
   "display_name": "Python 3.8.13 64-bit",
   "language": "python",
   "name": "python3"
  },
  "language_info": {
   "name": "python",
   "version": "3.8.13"
  },
  "orig_nbformat": 4,
  "vscode": {
   "interpreter": {
    "hash": "949777d72b0d2535278d3dc13498b2535136f6dfe0678499012e853ee9abcab1"
   }
  }
 },
 "nbformat": 4,
 "nbformat_minor": 2
}
