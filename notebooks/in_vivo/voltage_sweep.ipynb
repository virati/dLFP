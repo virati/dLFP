{
 "cells": [
  {
   "cell_type": "code",
   "execution_count": 5,
   "metadata": {},
   "outputs": [],
   "source": [
    "import numpy as np\n",
    "import matplotlib.pyplot as plt\n",
    "import scipy.signal as sig\n",
    "import pandas as pd\n",
    "\n",
    "from dbspace.signal.spot_check import spot_check\n"
   ]
  },
  {
   "cell_type": "code",
   "execution_count": 8,
   "metadata": {},
   "outputs": [],
   "source": [
    "def stim_plot(ts,Fs):\n",
    "    plt.figure()\n",
    "    plt.subplot(211)\n",
    "    plt.plot(np.linspace(0,ts.shape[0]/Fs,ts.shape[0]),ts)\n",
    "    \n",
    "    plt.subplot(212)\n",
    "    F,Pxx = sig.welch(ts,fs=Fs,nfft=2**15,nperseg=2**10,noverlap=2**10-5)\n",
    "    plt.plot(F,(Pxx),linewidth=5,label='Sampled')\n",
    "    #plt.xlim((0,500))\n",
    "    \n",
    "    return F\n",
    "\n",
    "def raw(timeseries):\n",
    "    stim_plot(timeseries[:,1],Fs=1e6)\n",
    "    \n",
    "def decimated(timeseries, factor=100):\n",
    "    if factor == 1:\n",
    "        ds_stim = timeseries[0:70000,1]    \n",
    "    else:\n",
    "        ds_stim = sig.decimate(timeseries[0:70000,1],q=factor)\n",
    "        \n",
    "    print(stim_plot(ds_stim,Fs=1e6/factor))\n"
   ]
  },
  {
   "cell_type": "code",
   "execution_count": 12,
   "metadata": {},
   "outputs": [],
   "source": [
    "sample_voltage_sweep = '/home/vscode/data/experiments/in_vitr/voltage_sweep.txt'\n",
    "_ = spot_check.spot_check(sample_voltage_sweep,tlims=(10,30),plot_sg=True)"
   ]
  }
 ],
 "metadata": {
  "kernelspec": {
   "display_name": "Python 3.9.13 64-bit",
   "language": "python",
   "name": "python3"
  },
  "language_info": {
   "codemirror_mode": {
    "name": "ipython",
    "version": 3
   },
   "file_extension": ".py",
   "mimetype": "text/x-python",
   "name": "python",
   "nbconvert_exporter": "python",
   "pygments_lexer": "ipython3",
   "version": "3.9.13"
  },
  "orig_nbformat": 4,
  "vscode": {
   "interpreter": {
    "hash": "949777d72b0d2535278d3dc13498b2535136f6dfe0678499012e853ee9abcab1"
   }
  }
 },
 "nbformat": 4,
 "nbformat_minor": 2
}
