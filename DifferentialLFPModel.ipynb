{
 "cells": [
  {
   "cell_type": "markdown",
   "metadata": {},
   "source": [
    "# Impedance mismatch related gain compression in bidirectional DBS devices\n",
    "\n",
    "\n",
    "## Overview\n",
    "In this notebook, we'll demonstrate the effects of impedance mismatch on recording distortions using a general model of a bidirectional DBS device. This model is focused on *differential* local field potential (LFP) recordings that are a contemporary strategy for recording in the presence of active DBS \\ref{}.\n",
    "\n",
    "\n",
    "## Model setup"
   ]
  },
  {
   "cell_type": "code",
   "execution_count": 11,
   "metadata": {},
   "outputs": [],
   "source": [
    "%reset -f\n",
    "import DBSpace as dbo\n",
    "import DBSpace.simulation.diff_model as sim\n",
    "\n",
    "import numpy as np\n",
    "import allantools\n",
    "from allantools.noise import pink as f_noise\n",
    "import matplotlib.pyplot as plt\n",
    "\n",
    "import scipy.signal as sig\n",
    "from scipy.ndimage.filters import gaussian_filter1d\n",
    "\n",
    "import pdb\n",
    "\n",
    "#plt.close('all')\n",
    "\n",
    "import seaborn as sns\n",
    "sns.set_context(\"paper\")\n",
    "\n",
    "sns.set(font_scale=2)\n",
    "sns.set_style(\"ticks\")\n",
    "sns.set_style(\"white\")\n",
    "plt.rcParams['image.cmap'] = 'jet'"
   ]
  },
  {
   "cell_type": "code",
   "execution_count": 12,
   "metadata": {},
   "outputs": [],
   "source": [
    "diff_run = sim.sim_diff(Ad=200,wform='moresine4',clock=True,stim_v=4)"
   ]
  },
  {
   "cell_type": "code",
   "execution_count": 13,
   "metadata": {},
   "outputs": [],
   "source": [
    "amp_run = sim.sim_amp(family='pwlinear',noise=1e-6,sig_amp_gain=1)"
   ]
  },
  {
   "cell_type": "code",
   "execution_count": 14,
   "metadata": {},
   "outputs": [
    {
     "ename": "AttributeError",
     "evalue": "'sim_amp' object has no attribute 'plot_amp_output'",
     "output_type": "error",
     "traceback": [
      "\u001b[0;31m---------------------------------------------------------------------------\u001b[0m",
      "\u001b[0;31mAttributeError\u001b[0m                            Traceback (most recent call last)",
      "\u001b[0;32m<ipython-input-14-fd86772fb216>\u001b[0m in \u001b[0;36m<module>\u001b[0;34m\u001b[0m\n\u001b[1;32m      4\u001b[0m \u001b[0mZ3\u001b[0m \u001b[0;34m=\u001b[0m \u001b[0;36m1200\u001b[0m\u001b[0;34m\u001b[0m\u001b[0;34m\u001b[0m\u001b[0m\n\u001b[1;32m      5\u001b[0m \u001b[0;34m\u001b[0m\u001b[0m\n\u001b[0;32m----> 6\u001b[0;31m \u001b[0mamp_run\u001b[0m\u001b[0;34m.\u001b[0m\u001b[0mplot_amp_output\u001b[0m\u001b[0;34m(\u001b[0m\u001b[0mamp_type\u001b[0m\u001b[0;34m=\u001b[0m\u001b[0;34m'linear'\u001b[0m\u001b[0;34m)\u001b[0m\u001b[0;34m\u001b[0m\u001b[0;34m\u001b[0m\u001b[0m\n\u001b[0m",
      "\u001b[0;31mAttributeError\u001b[0m: 'sim_amp' object has no attribute 'plot_amp_output'"
     ]
    }
   ],
   "source": [
    "#diff_run.plot_V_out(1000,1200)\n",
    "#diff_out = diff_run.V_out(1000,1100)['sim_1']\n",
    "Z1 = 1221\n",
    "Z3 = 1200\n",
    "\n",
    "amp_run.plot_amp_output(amp_type='linear')"
   ]
  },
  {
   "cell_type": "code",
   "execution_count": null,
   "metadata": {},
   "outputs": [],
   "source": []
  }
 ],
 "metadata": {
  "kernelspec": {
   "display_name": "Python 3",
   "language": "python",
   "name": "python3"
  },
  "language_info": {
   "codemirror_mode": {
    "name": "ipython",
    "version": 3
   },
   "file_extension": ".py",
   "mimetype": "text/x-python",
   "name": "python",
   "nbconvert_exporter": "python",
   "pygments_lexer": "ipython3",
   "version": "3.7.1"
  }
 },
 "nbformat": 4,
 "nbformat_minor": 2
}
